{
    "cells": [
        {
            "cell_type": "markdown",
            "metadata": {},
            "source": [
                "# Explore here"
            ]
        },
        {
            "cell_type": "code",
            "execution_count": 14,
            "metadata": {},
            "outputs": [],
            "source": [
                "import os\n",
                "import pandas as pd\n",
                "import seaborn as sns\n",
                "from dotenv import load_dotenv\n",
                "import spotipy\n",
                "import matplotlib.pyplot as plt\n",
                "\n",
                "\n",
                "# load the .env file variables\n",
                "load_dotenv()\n",
                "\n",
                "from dotenv import load_dotenv\n",
                "load_dotenv()\n",
                "\n",
                "import os\n",
                "\n",
                "client_id = os.environ.get(\"CLIENT_ID\")\n",
                "client_secret = os.environ.get(\"CLIENT_SECRET\")"
            ]
        },
        {
            "cell_type": "code",
            "execution_count": 6,
            "metadata": {},
            "outputs": [],
            "source": [
                "sp = spotipy.Spotify(auth_manager=spotipy.oauth2.SpotifyClientCredentials(client_id=client_id, client_secret=client_secret))"
            ]
        },
        {
            "cell_type": "code",
            "execution_count": 10,
            "metadata": {},
            "outputs": [
                {
                    "name": "stdout",
                    "output_type": "stream",
                    "text": [
                        "Top 10 de canciones del artista:\n",
                        "1. No One Knows - 66 - 278706\n",
                        "2. Go With The Flow - 64 - 187120\n",
                        "3. Little Sister - 61 - 174026\n",
                        "4. Make It Wit Chu - 64 - 290493\n",
                        "5. I Sat by the Ocean - 63 - 235586\n",
                        "6. 3's & 7's - 55 - 214066\n",
                        "7. You Think I Ain't Worth A Dollar, But I Feel Like A Millionaire - 56 - 192573\n",
                        "8. Song For The Dead - 54 - 352440\n",
                        "9. First It Giveth - 54 - 198386\n",
                        "10. The Way You Used To Do - 59 - 274281\n"
                    ]
                }
            ],
            "source": [
                "# Código de spotify del artista\n",
                "qotsa = '4pejUc4iciQfgdX6OKulQn'\n",
                "\n",
                "# Solicito a la API con claves de acceso(sp) de los datos del artista\n",
                "artist = sp.artist('4pejUc4iciQfgdX6OKulQn')\n",
                "\n",
                "# Solicito a la API el top de canciones del artista\n",
                "top_tracks_response = sp.artist_top_tracks(qotsa)\n",
                "\n",
                "# Extraigo la información de las canciones principales\n",
                "top_tracks = top_tracks_response['tracks']\n",
                "\n",
                "# Lista para almacenar los resultados\n",
                "best_songs_qotsa = []\n",
                "\n",
                "# Sacar nombre de la canción, duración y popularidad\n",
                "# Iteramos sobre las canciones principales y mostramos sus nombres\n",
                "\n",
                "print(\"Top 10 de canciones del artista:\")\n",
                "for i, track in enumerate(top_tracks[:10], 1):  # 1. enumerate() es una función de Python que toma una secuencia (en este caso, la lista top_tracks[:10] que contiene las primeras 10 canciones principales del artista)\n",
                "    nombre = track['name']                      #   y devuelve un iterador que genera pares (índice, elemento) para cada elemento en la secuencia. El segundo argumento opcional 1 especifica el valor inicial del índice, que en este caso comienza en 1 en lugar del valor predeterminado 0.\n",
                "    popularidad = track['popularity']           # 2. for i, track in ...: Esto es una declaración de bucle for que itera sobre los elementos generados por enumerate().\n",
                "    duracion = track['duration_ms']             #   En cada iteración, i será el índice de la canción en la lista (1, 2, 3, ..., 10) y track será la información de la canción.\n",
                "    print(f\"{i}. {nombre} - {popularidad} - {duracion}\")\n",
                "\n",
                "    # Añadimos la información extraída de interés a la lista (dentro del bucle!!)\n",
                "    best_songs_qotsa.append({'Nombre': nombre, 'Popularidad': popularidad, 'Duración (ms)': duracion})\n",
                "\n",
                "# Convertimos la lista en un DataFrame\n",
                "data = pd.DataFrame(best_songs_qotsa)\n",
                "\n"
            ]
        },
        {
            "cell_type": "code",
            "execution_count": 11,
            "metadata": {},
            "outputs": [
                {
                    "data": {
                        "text/html": [
                            "<div>\n",
                            "<style scoped>\n",
                            "    .dataframe tbody tr th:only-of-type {\n",
                            "        vertical-align: middle;\n",
                            "    }\n",
                            "\n",
                            "    .dataframe tbody tr th {\n",
                            "        vertical-align: top;\n",
                            "    }\n",
                            "\n",
                            "    .dataframe thead th {\n",
                            "        text-align: right;\n",
                            "    }\n",
                            "</style>\n",
                            "<table border=\"1\" class=\"dataframe\">\n",
                            "  <thead>\n",
                            "    <tr style=\"text-align: right;\">\n",
                            "      <th></th>\n",
                            "      <th>Nombre</th>\n",
                            "      <th>Popularidad</th>\n",
                            "      <th>Duración (ms)</th>\n",
                            "    </tr>\n",
                            "  </thead>\n",
                            "  <tbody>\n",
                            "    <tr>\n",
                            "      <th>1</th>\n",
                            "      <td>Go With The Flow</td>\n",
                            "      <td>64</td>\n",
                            "      <td>187120</td>\n",
                            "    </tr>\n",
                            "    <tr>\n",
                            "      <th>3</th>\n",
                            "      <td>Make It Wit Chu</td>\n",
                            "      <td>64</td>\n",
                            "      <td>290493</td>\n",
                            "    </tr>\n",
                            "    <tr>\n",
                            "      <th>0</th>\n",
                            "      <td>No One Knows</td>\n",
                            "      <td>66</td>\n",
                            "      <td>278706</td>\n",
                            "    </tr>\n",
                            "  </tbody>\n",
                            "</table>\n",
                            "</div>"
                        ],
                        "text/plain": [
                            "             Nombre  Popularidad  Duración (ms)\n",
                            "1  Go With The Flow           64         187120\n",
                            "3   Make It Wit Chu           64         290493\n",
                            "0      No One Knows           66         278706"
                        ]
                    },
                    "execution_count": 11,
                    "metadata": {},
                    "output_type": "execute_result"
                }
            ],
            "source": [
                "# Ordeno el dataframe por popularidad creciente y top 3\n",
                "data_ordenado = data.sort_values(by='Popularidad')\n",
                "top_3 = data_ordenado.tail(3)\n",
                "top_3"
            ]
        },
        {
            "cell_type": "code",
            "execution_count": 15,
            "metadata": {},
            "outputs": [
                {
                    "data": {
                        "image/png": "[encoded data removed]",
                        "text/plain": [
                            "<Figure size 1000x500 with 1 Axes>"
                        ]
                    },
                    "metadata": {},
                    "output_type": "display_data"
                }
            ],
            "source": [
                "plt.figure(figsize=(10, 5))\n",
                "plt.scatter(data['Duración (ms)'], data['Popularidad'], color='blue')\n",
                "plt.title('Relación entre Popularidad y Duración de las Canciones')\n",
                "plt.xlabel('Duración (ms)')\n",
                "plt.ylabel('Popularidad')\n",
                "plt.grid(True)\n",
                "plt.show()"
            ]
        },
        {
            "cell_type": "code",
            "execution_count": 18,
            "metadata": {},
            "outputs": [
                {
                    "name": "stdout",
                    "output_type": "stream",
                    "text": [
                        "Correlación entre popularidad y duración: 0.0011288417482043598\n",
                        "No existe correlación significativa entre la duración y la popularidad\n"
                    ]
                }
            ],
            "source": [
                "correlacion = data['Popularidad'].corr(data['Duración (ms)'])\n",
                "print(\"Correlación entre popularidad y duración:\", correlacion)\n",
                "\n",
                "if correlacion > 0.5:\n",
                "    print(\"Hay una correlación significativa entre la duración y la popularidad\")\n",
                "else:\n",
                "    print(\"No existe correlación significativa entre la duración y la popularidad\")\n"
            ]
        }
    ],
    "metadata": {
        "kernelspec": {
            "display_name": "Python 3.8.13 64-bit ('3.8.13')",
            "language": "python",
            "name": "python3"
        },
        "language_info": {
            "codemirror_mode": {
                "name": "ipython",
                "version": 3
            },
            "file_extension": ".py",
            "mimetype": "text/x-python",
            "name": "python",
            "nbconvert_exporter": "python",
            "pygments_lexer": "ipython3",
            "version": "3.11.4"
        },
        "orig_nbformat": 4,
        "vscode": {
            "interpreter": {
                "hash": "110cc1dee26208153f2972f08a2ad52b6a56238dc66d48e87fb757ef2996db56"
            }
        }
    },
    "nbformat": 4,
    "nbformat_minor": 2
}
